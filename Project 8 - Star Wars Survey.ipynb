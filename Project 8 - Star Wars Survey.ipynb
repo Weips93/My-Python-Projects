{
 "cells": [
  {
   "cell_type": "markdown",
   "metadata": {},
   "source": [
    "# Star Wars Survey\n",
    "\n",
    "In this project we will be analysing the results from a survey of star wars fans using the online tool SurveyMonkey. The team FiveThirtyEight ran this survey to answer the question **\"does the rest of America realize that “The Empire Strikes Back” is clearly the best of the bunch?\"**. They received 835 total responses, the dataset has been made available from [their GitHub respository](https://github.com/fivethirtyeight/data/tree/master/star-wars-survey).\n",
    "\n",
    "The data has several columns, including:\n",
    "\n",
    "| Column Name                                                              | Description                                                    |\n",
    "|--------------------------------------------------------------------------|----------------------------------------------------------------|\n",
    "| RespondentID                                                             | An anonymized ID for the respondent (person taking the survey) |\n",
    "| Gender                                                                   | The respondent's gender                                        |\n",
    "| Age                                                                      | The respondent's age                                           |\n",
    "| Household Income                                                         | The respondent's income                                        |\n",
    "| Education                                                                | The respondent's education level                               |\n",
    "| Location (Census Region)                                                 | The respondent's location                                      |\n",
    "| Have you seen any of the 6 films in the   Star Wars franchise?           | Has a Yes or No response                                       |\n",
    "| Do you consider yourself to be a fan of   the Star Wars film franchise?  | Has a Yes or No response                                       |\n",
    "\n",
    "There are several other columns containing answers to questions about the *star wars* movies. For some questions, the respondent had to check one or more boxes. This type of data is difficult to represent in columnar format. As a result, this data set needs a lot of cleaning.\n",
    "\n",
    "The first step is to import all of our dependencies and then read the dataset into a DataFrame. It's important to note that the encoding of the dataset is \"ISO-8859-1\" which is not the the default UTF-8, therefore we must specify the encoding when reading the dataset. After reading the dataset, we will inspect the first and last few columns to get an idea of our dataset."
   ]
  },
  {
   "cell_type": "code",
   "execution_count": 1,
   "metadata": {},
   "outputs": [
    {
     "data": {
      "text/html": [
       "<div>\n",
       "<style scoped>\n",
       "    .dataframe tbody tr th:only-of-type {\n",
       "        vertical-align: middle;\n",
       "    }\n",
       "\n",
       "    .dataframe tbody tr th {\n",
       "        vertical-align: top;\n",
       "    }\n",
       "\n",
       "    .dataframe thead th {\n",
       "        text-align: right;\n",
       "    }\n",
       "</style>\n",
       "<table border=\"1\" class=\"dataframe\">\n",
       "  <thead>\n",
       "    <tr style=\"text-align: right;\">\n",
       "      <th></th>\n",
       "      <th>RespondentID</th>\n",
       "      <th>Have you seen any of the 6 films in the Star Wars franchise?</th>\n",
       "      <th>Do you consider yourself to be a fan of the Star Wars film franchise?</th>\n",
       "      <th>Which of the following Star Wars films have you seen? Please select all that apply.</th>\n",
       "      <th>Unnamed: 4</th>\n",
       "      <th>Unnamed: 5</th>\n",
       "      <th>Unnamed: 6</th>\n",
       "      <th>Unnamed: 7</th>\n",
       "      <th>Unnamed: 8</th>\n",
       "      <th>Please rank the Star Wars films in order of preference with 1 being your favorite film in the franchise and 6 being your least favorite film.</th>\n",
       "      <th>...</th>\n",
       "      <th>Unnamed: 28</th>\n",
       "      <th>Which character shot first?</th>\n",
       "      <th>Are you familiar with the Expanded Universe?</th>\n",
       "      <th>Do you consider yourself to be a fan of the Expanded Universe?æ</th>\n",
       "      <th>Do you consider yourself to be a fan of the Star Trek franchise?</th>\n",
       "      <th>Gender</th>\n",
       "      <th>Age</th>\n",
       "      <th>Household Income</th>\n",
       "      <th>Education</th>\n",
       "      <th>Location (Census Region)</th>\n",
       "    </tr>\n",
       "  </thead>\n",
       "  <tbody>\n",
       "    <tr>\n",
       "      <th>0</th>\n",
       "      <td>NaN</td>\n",
       "      <td>Response</td>\n",
       "      <td>Response</td>\n",
       "      <td>Star Wars: Episode I  The Phantom Menace</td>\n",
       "      <td>Star Wars: Episode II  Attack of the Clones</td>\n",
       "      <td>Star Wars: Episode III  Revenge of the Sith</td>\n",
       "      <td>Star Wars: Episode IV  A New Hope</td>\n",
       "      <td>Star Wars: Episode V The Empire Strikes Back</td>\n",
       "      <td>Star Wars: Episode VI Return of the Jedi</td>\n",
       "      <td>Star Wars: Episode I  The Phantom Menace</td>\n",
       "      <td>...</td>\n",
       "      <td>Yoda</td>\n",
       "      <td>Response</td>\n",
       "      <td>Response</td>\n",
       "      <td>Response</td>\n",
       "      <td>Response</td>\n",
       "      <td>Response</td>\n",
       "      <td>Response</td>\n",
       "      <td>Response</td>\n",
       "      <td>Response</td>\n",
       "      <td>Response</td>\n",
       "    </tr>\n",
       "    <tr>\n",
       "      <th>1</th>\n",
       "      <td>3.292880e+09</td>\n",
       "      <td>Yes</td>\n",
       "      <td>Yes</td>\n",
       "      <td>Star Wars: Episode I  The Phantom Menace</td>\n",
       "      <td>Star Wars: Episode II  Attack of the Clones</td>\n",
       "      <td>Star Wars: Episode III  Revenge of the Sith</td>\n",
       "      <td>Star Wars: Episode IV  A New Hope</td>\n",
       "      <td>Star Wars: Episode V The Empire Strikes Back</td>\n",
       "      <td>Star Wars: Episode VI Return of the Jedi</td>\n",
       "      <td>3</td>\n",
       "      <td>...</td>\n",
       "      <td>Very favorably</td>\n",
       "      <td>I don't understand this question</td>\n",
       "      <td>Yes</td>\n",
       "      <td>No</td>\n",
       "      <td>No</td>\n",
       "      <td>Male</td>\n",
       "      <td>18-29</td>\n",
       "      <td>NaN</td>\n",
       "      <td>High school degree</td>\n",
       "      <td>South Atlantic</td>\n",
       "    </tr>\n",
       "    <tr>\n",
       "      <th>2</th>\n",
       "      <td>3.292880e+09</td>\n",
       "      <td>No</td>\n",
       "      <td>NaN</td>\n",
       "      <td>NaN</td>\n",
       "      <td>NaN</td>\n",
       "      <td>NaN</td>\n",
       "      <td>NaN</td>\n",
       "      <td>NaN</td>\n",
       "      <td>NaN</td>\n",
       "      <td>NaN</td>\n",
       "      <td>...</td>\n",
       "      <td>NaN</td>\n",
       "      <td>NaN</td>\n",
       "      <td>NaN</td>\n",
       "      <td>NaN</td>\n",
       "      <td>Yes</td>\n",
       "      <td>Male</td>\n",
       "      <td>18-29</td>\n",
       "      <td>$0 - $24,999</td>\n",
       "      <td>Bachelor degree</td>\n",
       "      <td>West South Central</td>\n",
       "    </tr>\n",
       "    <tr>\n",
       "      <th>3</th>\n",
       "      <td>3.292765e+09</td>\n",
       "      <td>Yes</td>\n",
       "      <td>No</td>\n",
       "      <td>Star Wars: Episode I  The Phantom Menace</td>\n",
       "      <td>Star Wars: Episode II  Attack of the Clones</td>\n",
       "      <td>Star Wars: Episode III  Revenge of the Sith</td>\n",
       "      <td>NaN</td>\n",
       "      <td>NaN</td>\n",
       "      <td>NaN</td>\n",
       "      <td>1</td>\n",
       "      <td>...</td>\n",
       "      <td>Unfamiliar (N/A)</td>\n",
       "      <td>I don't understand this question</td>\n",
       "      <td>No</td>\n",
       "      <td>NaN</td>\n",
       "      <td>No</td>\n",
       "      <td>Male</td>\n",
       "      <td>18-29</td>\n",
       "      <td>$0 - $24,999</td>\n",
       "      <td>High school degree</td>\n",
       "      <td>West North Central</td>\n",
       "    </tr>\n",
       "    <tr>\n",
       "      <th>4</th>\n",
       "      <td>3.292763e+09</td>\n",
       "      <td>Yes</td>\n",
       "      <td>Yes</td>\n",
       "      <td>Star Wars: Episode I  The Phantom Menace</td>\n",
       "      <td>Star Wars: Episode II  Attack of the Clones</td>\n",
       "      <td>Star Wars: Episode III  Revenge of the Sith</td>\n",
       "      <td>Star Wars: Episode IV  A New Hope</td>\n",
       "      <td>Star Wars: Episode V The Empire Strikes Back</td>\n",
       "      <td>Star Wars: Episode VI Return of the Jedi</td>\n",
       "      <td>5</td>\n",
       "      <td>...</td>\n",
       "      <td>Very favorably</td>\n",
       "      <td>I don't understand this question</td>\n",
       "      <td>No</td>\n",
       "      <td>NaN</td>\n",
       "      <td>Yes</td>\n",
       "      <td>Male</td>\n",
       "      <td>18-29</td>\n",
       "      <td>$100,000 - $149,999</td>\n",
       "      <td>Some college or Associate degree</td>\n",
       "      <td>West North Central</td>\n",
       "    </tr>\n",
       "    <tr>\n",
       "      <th>...</th>\n",
       "      <td>...</td>\n",
       "      <td>...</td>\n",
       "      <td>...</td>\n",
       "      <td>...</td>\n",
       "      <td>...</td>\n",
       "      <td>...</td>\n",
       "      <td>...</td>\n",
       "      <td>...</td>\n",
       "      <td>...</td>\n",
       "      <td>...</td>\n",
       "      <td>...</td>\n",
       "      <td>...</td>\n",
       "      <td>...</td>\n",
       "      <td>...</td>\n",
       "      <td>...</td>\n",
       "      <td>...</td>\n",
       "      <td>...</td>\n",
       "      <td>...</td>\n",
       "      <td>...</td>\n",
       "      <td>...</td>\n",
       "      <td>...</td>\n",
       "    </tr>\n",
       "    <tr>\n",
       "      <th>1182</th>\n",
       "      <td>3.288389e+09</td>\n",
       "      <td>Yes</td>\n",
       "      <td>Yes</td>\n",
       "      <td>Star Wars: Episode I  The Phantom Menace</td>\n",
       "      <td>Star Wars: Episode II  Attack of the Clones</td>\n",
       "      <td>Star Wars: Episode III  Revenge of the Sith</td>\n",
       "      <td>Star Wars: Episode IV  A New Hope</td>\n",
       "      <td>Star Wars: Episode V The Empire Strikes Back</td>\n",
       "      <td>Star Wars: Episode VI Return of the Jedi</td>\n",
       "      <td>5</td>\n",
       "      <td>...</td>\n",
       "      <td>Very favorably</td>\n",
       "      <td>Han</td>\n",
       "      <td>No</td>\n",
       "      <td>NaN</td>\n",
       "      <td>Yes</td>\n",
       "      <td>Female</td>\n",
       "      <td>18-29</td>\n",
       "      <td>$0 - $24,999</td>\n",
       "      <td>Some college or Associate degree</td>\n",
       "      <td>East North Central</td>\n",
       "    </tr>\n",
       "    <tr>\n",
       "      <th>1183</th>\n",
       "      <td>3.288379e+09</td>\n",
       "      <td>Yes</td>\n",
       "      <td>Yes</td>\n",
       "      <td>Star Wars: Episode I  The Phantom Menace</td>\n",
       "      <td>Star Wars: Episode II  Attack of the Clones</td>\n",
       "      <td>Star Wars: Episode III  Revenge of the Sith</td>\n",
       "      <td>Star Wars: Episode IV  A New Hope</td>\n",
       "      <td>Star Wars: Episode V The Empire Strikes Back</td>\n",
       "      <td>Star Wars: Episode VI Return of the Jedi</td>\n",
       "      <td>4</td>\n",
       "      <td>...</td>\n",
       "      <td>Very favorably</td>\n",
       "      <td>I don't understand this question</td>\n",
       "      <td>No</td>\n",
       "      <td>NaN</td>\n",
       "      <td>Yes</td>\n",
       "      <td>Female</td>\n",
       "      <td>30-44</td>\n",
       "      <td>$50,000 - $99,999</td>\n",
       "      <td>Bachelor degree</td>\n",
       "      <td>Mountain</td>\n",
       "    </tr>\n",
       "    <tr>\n",
       "      <th>1184</th>\n",
       "      <td>3.288375e+09</td>\n",
       "      <td>No</td>\n",
       "      <td>NaN</td>\n",
       "      <td>NaN</td>\n",
       "      <td>NaN</td>\n",
       "      <td>NaN</td>\n",
       "      <td>NaN</td>\n",
       "      <td>NaN</td>\n",
       "      <td>NaN</td>\n",
       "      <td>NaN</td>\n",
       "      <td>...</td>\n",
       "      <td>NaN</td>\n",
       "      <td>NaN</td>\n",
       "      <td>NaN</td>\n",
       "      <td>NaN</td>\n",
       "      <td>No</td>\n",
       "      <td>Female</td>\n",
       "      <td>30-44</td>\n",
       "      <td>$50,000 - $99,999</td>\n",
       "      <td>Bachelor degree</td>\n",
       "      <td>Middle Atlantic</td>\n",
       "    </tr>\n",
       "    <tr>\n",
       "      <th>1185</th>\n",
       "      <td>3.288373e+09</td>\n",
       "      <td>Yes</td>\n",
       "      <td>Yes</td>\n",
       "      <td>Star Wars: Episode I  The Phantom Menace</td>\n",
       "      <td>Star Wars: Episode II  Attack of the Clones</td>\n",
       "      <td>Star Wars: Episode III  Revenge of the Sith</td>\n",
       "      <td>Star Wars: Episode IV  A New Hope</td>\n",
       "      <td>Star Wars: Episode V The Empire Strikes Back</td>\n",
       "      <td>Star Wars: Episode VI Return of the Jedi</td>\n",
       "      <td>4</td>\n",
       "      <td>...</td>\n",
       "      <td>Very favorably</td>\n",
       "      <td>Han</td>\n",
       "      <td>No</td>\n",
       "      <td>NaN</td>\n",
       "      <td>Yes</td>\n",
       "      <td>Female</td>\n",
       "      <td>45-60</td>\n",
       "      <td>$100,000 - $149,999</td>\n",
       "      <td>Some college or Associate degree</td>\n",
       "      <td>East North Central</td>\n",
       "    </tr>\n",
       "    <tr>\n",
       "      <th>1186</th>\n",
       "      <td>3.288373e+09</td>\n",
       "      <td>Yes</td>\n",
       "      <td>No</td>\n",
       "      <td>Star Wars: Episode I  The Phantom Menace</td>\n",
       "      <td>Star Wars: Episode II  Attack of the Clones</td>\n",
       "      <td>NaN</td>\n",
       "      <td>NaN</td>\n",
       "      <td>Star Wars: Episode V The Empire Strikes Back</td>\n",
       "      <td>Star Wars: Episode VI Return of the Jedi</td>\n",
       "      <td>6</td>\n",
       "      <td>...</td>\n",
       "      <td>Very unfavorably</td>\n",
       "      <td>I don't understand this question</td>\n",
       "      <td>No</td>\n",
       "      <td>NaN</td>\n",
       "      <td>No</td>\n",
       "      <td>Female</td>\n",
       "      <td>&gt; 60</td>\n",
       "      <td>$50,000 - $99,999</td>\n",
       "      <td>Graduate degree</td>\n",
       "      <td>Pacific</td>\n",
       "    </tr>\n",
       "  </tbody>\n",
       "</table>\n",
       "<p>1187 rows × 38 columns</p>\n",
       "</div>"
      ],
      "text/plain": [
       "      RespondentID  \\\n",
       "0              NaN   \n",
       "1     3.292880e+09   \n",
       "2     3.292880e+09   \n",
       "3     3.292765e+09   \n",
       "4     3.292763e+09   \n",
       "...            ...   \n",
       "1182  3.288389e+09   \n",
       "1183  3.288379e+09   \n",
       "1184  3.288375e+09   \n",
       "1185  3.288373e+09   \n",
       "1186  3.288373e+09   \n",
       "\n",
       "     Have you seen any of the 6 films in the Star Wars franchise?  \\\n",
       "0                                              Response             \n",
       "1                                                   Yes             \n",
       "2                                                    No             \n",
       "3                                                   Yes             \n",
       "4                                                   Yes             \n",
       "...                                                 ...             \n",
       "1182                                                Yes             \n",
       "1183                                                Yes             \n",
       "1184                                                 No             \n",
       "1185                                                Yes             \n",
       "1186                                                Yes             \n",
       "\n",
       "     Do you consider yourself to be a fan of the Star Wars film franchise?  \\\n",
       "0                                              Response                      \n",
       "1                                                   Yes                      \n",
       "2                                                   NaN                      \n",
       "3                                                    No                      \n",
       "4                                                   Yes                      \n",
       "...                                                 ...                      \n",
       "1182                                                Yes                      \n",
       "1183                                                Yes                      \n",
       "1184                                                NaN                      \n",
       "1185                                                Yes                      \n",
       "1186                                                 No                      \n",
       "\n",
       "     Which of the following Star Wars films have you seen? Please select all that apply.  \\\n",
       "0              Star Wars: Episode I  The Phantom Menace                                    \n",
       "1              Star Wars: Episode I  The Phantom Menace                                    \n",
       "2                                                   NaN                                    \n",
       "3              Star Wars: Episode I  The Phantom Menace                                    \n",
       "4              Star Wars: Episode I  The Phantom Menace                                    \n",
       "...                                                 ...                                    \n",
       "1182           Star Wars: Episode I  The Phantom Menace                                    \n",
       "1183           Star Wars: Episode I  The Phantom Menace                                    \n",
       "1184                                                NaN                                    \n",
       "1185           Star Wars: Episode I  The Phantom Menace                                    \n",
       "1186           Star Wars: Episode I  The Phantom Menace                                    \n",
       "\n",
       "                                       Unnamed: 4  \\\n",
       "0     Star Wars: Episode II  Attack of the Clones   \n",
       "1     Star Wars: Episode II  Attack of the Clones   \n",
       "2                                             NaN   \n",
       "3     Star Wars: Episode II  Attack of the Clones   \n",
       "4     Star Wars: Episode II  Attack of the Clones   \n",
       "...                                           ...   \n",
       "1182  Star Wars: Episode II  Attack of the Clones   \n",
       "1183  Star Wars: Episode II  Attack of the Clones   \n",
       "1184                                          NaN   \n",
       "1185  Star Wars: Episode II  Attack of the Clones   \n",
       "1186  Star Wars: Episode II  Attack of the Clones   \n",
       "\n",
       "                                       Unnamed: 5  \\\n",
       "0     Star Wars: Episode III  Revenge of the Sith   \n",
       "1     Star Wars: Episode III  Revenge of the Sith   \n",
       "2                                             NaN   \n",
       "3     Star Wars: Episode III  Revenge of the Sith   \n",
       "4     Star Wars: Episode III  Revenge of the Sith   \n",
       "...                                           ...   \n",
       "1182  Star Wars: Episode III  Revenge of the Sith   \n",
       "1183  Star Wars: Episode III  Revenge of the Sith   \n",
       "1184                                          NaN   \n",
       "1185  Star Wars: Episode III  Revenge of the Sith   \n",
       "1186                                          NaN   \n",
       "\n",
       "                             Unnamed: 6  \\\n",
       "0     Star Wars: Episode IV  A New Hope   \n",
       "1     Star Wars: Episode IV  A New Hope   \n",
       "2                                   NaN   \n",
       "3                                   NaN   \n",
       "4     Star Wars: Episode IV  A New Hope   \n",
       "...                                 ...   \n",
       "1182  Star Wars: Episode IV  A New Hope   \n",
       "1183  Star Wars: Episode IV  A New Hope   \n",
       "1184                                NaN   \n",
       "1185  Star Wars: Episode IV  A New Hope   \n",
       "1186                                NaN   \n",
       "\n",
       "                                        Unnamed: 7  \\\n",
       "0     Star Wars: Episode V The Empire Strikes Back   \n",
       "1     Star Wars: Episode V The Empire Strikes Back   \n",
       "2                                              NaN   \n",
       "3                                              NaN   \n",
       "4     Star Wars: Episode V The Empire Strikes Back   \n",
       "...                                            ...   \n",
       "1182  Star Wars: Episode V The Empire Strikes Back   \n",
       "1183  Star Wars: Episode V The Empire Strikes Back   \n",
       "1184                                           NaN   \n",
       "1185  Star Wars: Episode V The Empire Strikes Back   \n",
       "1186  Star Wars: Episode V The Empire Strikes Back   \n",
       "\n",
       "                                    Unnamed: 8  \\\n",
       "0     Star Wars: Episode VI Return of the Jedi   \n",
       "1     Star Wars: Episode VI Return of the Jedi   \n",
       "2                                          NaN   \n",
       "3                                          NaN   \n",
       "4     Star Wars: Episode VI Return of the Jedi   \n",
       "...                                        ...   \n",
       "1182  Star Wars: Episode VI Return of the Jedi   \n",
       "1183  Star Wars: Episode VI Return of the Jedi   \n",
       "1184                                       NaN   \n",
       "1185  Star Wars: Episode VI Return of the Jedi   \n",
       "1186  Star Wars: Episode VI Return of the Jedi   \n",
       "\n",
       "     Please rank the Star Wars films in order of preference with 1 being your favorite film in the franchise and 6 being your least favorite film.  \\\n",
       "0              Star Wars: Episode I  The Phantom Menace                                                                                              \n",
       "1                                                     3                                                                                              \n",
       "2                                                   NaN                                                                                              \n",
       "3                                                     1                                                                                              \n",
       "4                                                     5                                                                                              \n",
       "...                                                 ...                                                                                              \n",
       "1182                                                  5                                                                                              \n",
       "1183                                                  4                                                                                              \n",
       "1184                                                NaN                                                                                              \n",
       "1185                                                  4                                                                                              \n",
       "1186                                                  6                                                                                              \n",
       "\n",
       "      ...       Unnamed: 28       Which character shot first?  \\\n",
       "0     ...              Yoda                          Response   \n",
       "1     ...    Very favorably  I don't understand this question   \n",
       "2     ...               NaN                               NaN   \n",
       "3     ...  Unfamiliar (N/A)  I don't understand this question   \n",
       "4     ...    Very favorably  I don't understand this question   \n",
       "...   ...               ...                               ...   \n",
       "1182  ...    Very favorably                               Han   \n",
       "1183  ...    Very favorably  I don't understand this question   \n",
       "1184  ...               NaN                               NaN   \n",
       "1185  ...    Very favorably                               Han   \n",
       "1186  ...  Very unfavorably  I don't understand this question   \n",
       "\n",
       "     Are you familiar with the Expanded Universe?  \\\n",
       "0                                        Response   \n",
       "1                                             Yes   \n",
       "2                                             NaN   \n",
       "3                                              No   \n",
       "4                                              No   \n",
       "...                                           ...   \n",
       "1182                                           No   \n",
       "1183                                           No   \n",
       "1184                                          NaN   \n",
       "1185                                           No   \n",
       "1186                                           No   \n",
       "\n",
       "     Do you consider yourself to be a fan of the Expanded Universe?æ  \\\n",
       "0                                              Response                 \n",
       "1                                                    No                 \n",
       "2                                                   NaN                 \n",
       "3                                                   NaN                 \n",
       "4                                                   NaN                 \n",
       "...                                                 ...                 \n",
       "1182                                                NaN                 \n",
       "1183                                                NaN                 \n",
       "1184                                                NaN                 \n",
       "1185                                                NaN                 \n",
       "1186                                                NaN                 \n",
       "\n",
       "     Do you consider yourself to be a fan of the Star Trek franchise?  \\\n",
       "0                                              Response                 \n",
       "1                                                    No                 \n",
       "2                                                   Yes                 \n",
       "3                                                    No                 \n",
       "4                                                   Yes                 \n",
       "...                                                 ...                 \n",
       "1182                                                Yes                 \n",
       "1183                                                Yes                 \n",
       "1184                                                 No                 \n",
       "1185                                                Yes                 \n",
       "1186                                                 No                 \n",
       "\n",
       "        Gender       Age     Household Income  \\\n",
       "0     Response  Response             Response   \n",
       "1         Male     18-29                  NaN   \n",
       "2         Male     18-29         $0 - $24,999   \n",
       "3         Male     18-29         $0 - $24,999   \n",
       "4         Male     18-29  $100,000 - $149,999   \n",
       "...        ...       ...                  ...   \n",
       "1182    Female     18-29         $0 - $24,999   \n",
       "1183    Female     30-44    $50,000 - $99,999   \n",
       "1184    Female     30-44    $50,000 - $99,999   \n",
       "1185    Female     45-60  $100,000 - $149,999   \n",
       "1186    Female      > 60    $50,000 - $99,999   \n",
       "\n",
       "                             Education Location (Census Region)  \n",
       "0                             Response                 Response  \n",
       "1                   High school degree           South Atlantic  \n",
       "2                      Bachelor degree       West South Central  \n",
       "3                   High school degree       West North Central  \n",
       "4     Some college or Associate degree       West North Central  \n",
       "...                                ...                      ...  \n",
       "1182  Some college or Associate degree       East North Central  \n",
       "1183                   Bachelor degree                 Mountain  \n",
       "1184                   Bachelor degree          Middle Atlantic  \n",
       "1185  Some college or Associate degree       East North Central  \n",
       "1186                   Graduate degree                  Pacific  \n",
       "\n",
       "[1187 rows x 38 columns]"
      ]
     },
     "execution_count": 1,
     "metadata": {},
     "output_type": "execute_result"
    }
   ],
   "source": [
    "import pandas as pd\n",
    "import numpy as np\n",
    "import matplotlib.pyplot as plt\n",
    "%matplotlib inline\n",
    "pd.set_option('mode.chained_assignment', None)\n",
    "star_wars = pd.read_csv(\"star_wars.csv\", encoding=\"ISO-8859-1\")\n",
    "star_wars"
   ]
  },
  {
   "cell_type": "markdown",
   "metadata": {},
   "source": [
    "We were able to successfully read the dataset into a DataFrame. Upon inspection, we notice we need to clean many aspects of our dataset into a usable form before we can begin analysing the data. Next we will review the names of the columns."
   ]
  },
  {
   "cell_type": "code",
   "execution_count": 2,
   "metadata": {},
   "outputs": [
    {
     "data": {
      "text/plain": [
       "Index(['RespondentID',\n",
       "       'Have you seen any of the 6 films in the Star Wars franchise?',\n",
       "       'Do you consider yourself to be a fan of the Star Wars film franchise?',\n",
       "       'Which of the following Star Wars films have you seen? Please select all that apply.',\n",
       "       'Unnamed: 4', 'Unnamed: 5', 'Unnamed: 6', 'Unnamed: 7', 'Unnamed: 8',\n",
       "       'Please rank the Star Wars films in order of preference with 1 being your favorite film in the franchise and 6 being your least favorite film.',\n",
       "       'Unnamed: 10', 'Unnamed: 11', 'Unnamed: 12', 'Unnamed: 13',\n",
       "       'Unnamed: 14',\n",
       "       'Please state whether you view the following characters favorably, unfavorably, or are unfamiliar with him/her.',\n",
       "       'Unnamed: 16', 'Unnamed: 17', 'Unnamed: 18', 'Unnamed: 19',\n",
       "       'Unnamed: 20', 'Unnamed: 21', 'Unnamed: 22', 'Unnamed: 23',\n",
       "       'Unnamed: 24', 'Unnamed: 25', 'Unnamed: 26', 'Unnamed: 27',\n",
       "       'Unnamed: 28', 'Which character shot first?',\n",
       "       'Are you familiar with the Expanded Universe?',\n",
       "       'Do you consider yourself to be a fan of the Expanded Universe?æ',\n",
       "       'Do you consider yourself to be a fan of the Star Trek franchise?',\n",
       "       'Gender', 'Age', 'Household Income', 'Education',\n",
       "       'Location (Census Region)'],\n",
       "      dtype='object')"
      ]
     },
     "execution_count": 2,
     "metadata": {},
     "output_type": "execute_result"
    }
   ],
   "source": [
    "star_wars.columns"
   ]
  },
  {
   "cell_type": "markdown",
   "metadata": {},
   "source": [
    "The RespondentID is supposed to be unique for every each respondent, therefore it should not contain any blank values. We will remove any rows with an invalid RespondentID."
   ]
  },
  {
   "cell_type": "code",
   "execution_count": 3,
   "metadata": {},
   "outputs": [
    {
     "data": {
      "text/plain": [
       "(1186, 38)"
      ]
     },
     "execution_count": 3,
     "metadata": {},
     "output_type": "execute_result"
    }
   ],
   "source": [
    "star_wars = star_wars[star_wars['RespondentID'].notnull()]\n",
    "star_wars.shape"
   ]
  },
  {
   "cell_type": "markdown",
   "metadata": {},
   "source": [
    "There was only one row which had an invalid RespondentID, which was the first row of our dataset, which seems to be a prompt for the user to respond.\n",
    "\n",
    "## Cleaning and Mapping Yes/No Columns\n",
    "\n",
    "Next we will convert the Yes/No columns into True/False values. To do this we will be writing a function to apply to the column. First we need to check whether the columns contains any blanks, so that our function accomodates for the blanks by preserving them"
   ]
  },
  {
   "cell_type": "code",
   "execution_count": 4,
   "metadata": {},
   "outputs": [
    {
     "name": "stdout",
     "output_type": "stream",
     "text": [
      "Number of nulls in column 1: 0\n",
      "Number of nulls in column 2: 350\n"
     ]
    }
   ],
   "source": [
    "print(f\"Number of nulls in column 1: {star_wars[star_wars.columns[1]].isnull().sum()}\")\n",
    "print(f\"Number of nulls in column 2: {star_wars[star_wars.columns[2]].isnull().sum()}\")"
   ]
  },
  {
   "cell_type": "markdown",
   "metadata": {},
   "source": [
    "While there are no blanks in the \"Have you seen any of the 6 films in the Star Wars franchise?\" column, there are 350 blanks in the \"Do you consider yourself to be a fan of the Star Wars film franchise?\" column. We will write a function to convert yes into True, no into False and blank values as blank values."
   ]
  },
  {
   "cell_type": "code",
   "execution_count": 5,
   "metadata": {},
   "outputs": [
    {
     "data": {
      "text/plain": [
       "True     936\n",
       "False    250\n",
       "Name: Have you seen any of the 6 films in the Star Wars franchise?, dtype: int64"
      ]
     },
     "execution_count": 5,
     "metadata": {},
     "output_type": "execute_result"
    }
   ],
   "source": [
    "def yes_no_clean(s):\n",
    "    if s == \"Yes\":\n",
    "        return True\n",
    "    elif s == \"No\":\n",
    "        return False\n",
    "    else:\n",
    "        return np.nan\n",
    "\n",
    "star_wars[star_wars.columns[1]] = star_wars[star_wars.columns[1]].apply(yes_no_clean)\n",
    "star_wars[star_wars.columns[1]].value_counts(dropna=False)"
   ]
  },
  {
   "cell_type": "code",
   "execution_count": 6,
   "metadata": {},
   "outputs": [
    {
     "data": {
      "text/plain": [
       "True     552\n",
       "NaN      350\n",
       "False    284\n",
       "Name: Do you consider yourself to be a fan of the Star Wars film franchise?, dtype: int64"
      ]
     },
     "execution_count": 6,
     "metadata": {},
     "output_type": "execute_result"
    }
   ],
   "source": [
    "star_wars[star_wars.columns[2]] = star_wars[star_wars.columns[2]].apply(yes_no_clean)\n",
    "star_wars[star_wars.columns[2]].value_counts(dropna=False)"
   ]
  },
  {
   "cell_type": "markdown",
   "metadata": {},
   "source": [
    "## Cleaning and Mapping Checkbox Columns\n",
    "\n",
    "Before we clean the checkbox columns, we will rename these checkbox columns to a more intuitive name for later. The columns represents whether or not the respondent has seen the respective star wars episodes starting from episode 1. So we will rename the columns to seen_$x$ where $x$ is the episode number.\n",
    "\n",
    "The dataset has represented a tick in the checkbox by duplicating the value which was originally in row 1, and the blanks represents an unchecked tickbox. We will convert blanks into False, and non-blanks into True. For simplicity, we will use a lambda function rather than defining an entire function for this basic functionality."
   ]
  },
  {
   "cell_type": "code",
   "execution_count": 7,
   "metadata": {},
   "outputs": [
    {
     "data": {
      "text/plain": [
       "Index(['seen_1', 'seen_2', 'seen_3', 'seen_4', 'seen_5', 'seen_6'], dtype='object')"
      ]
     },
     "execution_count": 7,
     "metadata": {},
     "output_type": "execute_result"
    }
   ],
   "source": [
    "col_to_rename = star_wars.columns[3:9]\n",
    "col_renamed_to = ['seen_1', 'seen_2', 'seen_3', 'seen_4', 'seen_5', 'seen_6']\n",
    "mapping_dict = {col_to_rename[x]:col_renamed_to[x] for x in range(6)}\n",
    "star_wars.rename(mapping_dict, axis=1, inplace=True)\n",
    "star_wars.columns[3:9]"
   ]
  },
  {
   "cell_type": "code",
   "execution_count": 8,
   "metadata": {},
   "outputs": [
    {
     "data": {
      "text/html": [
       "<div>\n",
       "<style scoped>\n",
       "    .dataframe tbody tr th:only-of-type {\n",
       "        vertical-align: middle;\n",
       "    }\n",
       "\n",
       "    .dataframe tbody tr th {\n",
       "        vertical-align: top;\n",
       "    }\n",
       "\n",
       "    .dataframe thead th {\n",
       "        text-align: right;\n",
       "    }\n",
       "</style>\n",
       "<table border=\"1\" class=\"dataframe\">\n",
       "  <thead>\n",
       "    <tr style=\"text-align: right;\">\n",
       "      <th></th>\n",
       "      <th>seen_1</th>\n",
       "      <th>seen_2</th>\n",
       "      <th>seen_3</th>\n",
       "      <th>seen_4</th>\n",
       "      <th>seen_5</th>\n",
       "      <th>seen_6</th>\n",
       "    </tr>\n",
       "  </thead>\n",
       "  <tbody>\n",
       "    <tr>\n",
       "      <th>1</th>\n",
       "      <td>True</td>\n",
       "      <td>True</td>\n",
       "      <td>True</td>\n",
       "      <td>True</td>\n",
       "      <td>True</td>\n",
       "      <td>True</td>\n",
       "    </tr>\n",
       "    <tr>\n",
       "      <th>2</th>\n",
       "      <td>False</td>\n",
       "      <td>False</td>\n",
       "      <td>False</td>\n",
       "      <td>False</td>\n",
       "      <td>False</td>\n",
       "      <td>False</td>\n",
       "    </tr>\n",
       "    <tr>\n",
       "      <th>3</th>\n",
       "      <td>True</td>\n",
       "      <td>True</td>\n",
       "      <td>True</td>\n",
       "      <td>False</td>\n",
       "      <td>False</td>\n",
       "      <td>False</td>\n",
       "    </tr>\n",
       "    <tr>\n",
       "      <th>4</th>\n",
       "      <td>True</td>\n",
       "      <td>True</td>\n",
       "      <td>True</td>\n",
       "      <td>True</td>\n",
       "      <td>True</td>\n",
       "      <td>True</td>\n",
       "    </tr>\n",
       "    <tr>\n",
       "      <th>5</th>\n",
       "      <td>True</td>\n",
       "      <td>True</td>\n",
       "      <td>True</td>\n",
       "      <td>True</td>\n",
       "      <td>True</td>\n",
       "      <td>True</td>\n",
       "    </tr>\n",
       "    <tr>\n",
       "      <th>...</th>\n",
       "      <td>...</td>\n",
       "      <td>...</td>\n",
       "      <td>...</td>\n",
       "      <td>...</td>\n",
       "      <td>...</td>\n",
       "      <td>...</td>\n",
       "    </tr>\n",
       "    <tr>\n",
       "      <th>1182</th>\n",
       "      <td>True</td>\n",
       "      <td>True</td>\n",
       "      <td>True</td>\n",
       "      <td>True</td>\n",
       "      <td>True</td>\n",
       "      <td>True</td>\n",
       "    </tr>\n",
       "    <tr>\n",
       "      <th>1183</th>\n",
       "      <td>True</td>\n",
       "      <td>True</td>\n",
       "      <td>True</td>\n",
       "      <td>True</td>\n",
       "      <td>True</td>\n",
       "      <td>True</td>\n",
       "    </tr>\n",
       "    <tr>\n",
       "      <th>1184</th>\n",
       "      <td>False</td>\n",
       "      <td>False</td>\n",
       "      <td>False</td>\n",
       "      <td>False</td>\n",
       "      <td>False</td>\n",
       "      <td>False</td>\n",
       "    </tr>\n",
       "    <tr>\n",
       "      <th>1185</th>\n",
       "      <td>True</td>\n",
       "      <td>True</td>\n",
       "      <td>True</td>\n",
       "      <td>True</td>\n",
       "      <td>True</td>\n",
       "      <td>True</td>\n",
       "    </tr>\n",
       "    <tr>\n",
       "      <th>1186</th>\n",
       "      <td>True</td>\n",
       "      <td>True</td>\n",
       "      <td>False</td>\n",
       "      <td>False</td>\n",
       "      <td>True</td>\n",
       "      <td>True</td>\n",
       "    </tr>\n",
       "  </tbody>\n",
       "</table>\n",
       "<p>1186 rows × 6 columns</p>\n",
       "</div>"
      ],
      "text/plain": [
       "      seen_1  seen_2  seen_3  seen_4  seen_5  seen_6\n",
       "1       True    True    True    True    True    True\n",
       "2      False   False   False   False   False   False\n",
       "3       True    True    True   False   False   False\n",
       "4       True    True    True    True    True    True\n",
       "5       True    True    True    True    True    True\n",
       "...      ...     ...     ...     ...     ...     ...\n",
       "1182    True    True    True    True    True    True\n",
       "1183    True    True    True    True    True    True\n",
       "1184   False   False   False   False   False   False\n",
       "1185    True    True    True    True    True    True\n",
       "1186    True    True   False   False    True    True\n",
       "\n",
       "[1186 rows x 6 columns]"
      ]
     },
     "execution_count": 8,
     "metadata": {},
     "output_type": "execute_result"
    }
   ],
   "source": [
    "star_wars[star_wars.columns[3:9]] = star_wars[star_wars.columns[3:9]].applymap(lambda s: False if pd.isnull(s) else True)\n",
    "star_wars[star_wars.columns[3:9]]"
   ]
  },
  {
   "cell_type": "markdown",
   "metadata": {},
   "source": [
    "## Cleaning the Ranking Columns\n",
    "\n",
    "Before we clean the ranking columns, we will rename these ranking columns to a more intuitive name for later. The columns represents the ranking the respondent has given to respective star wars episodes starting from episode 1. So we will rename the columns to ranking_$x$ where $x$ is the episode number. The rating is ranking each of the episodes from worst to best, with 1 representing the best and 6 representing the worst.\n",
    "\n",
    "Each of the value in the columns either contains a number from 1 to 6, so all we have to do is cast the value as a float."
   ]
  },
  {
   "cell_type": "code",
   "execution_count": 9,
   "metadata": {},
   "outputs": [
    {
     "data": {
      "text/html": [
       "<div>\n",
       "<style scoped>\n",
       "    .dataframe tbody tr th:only-of-type {\n",
       "        vertical-align: middle;\n",
       "    }\n",
       "\n",
       "    .dataframe tbody tr th {\n",
       "        vertical-align: top;\n",
       "    }\n",
       "\n",
       "    .dataframe thead th {\n",
       "        text-align: right;\n",
       "    }\n",
       "</style>\n",
       "<table border=\"1\" class=\"dataframe\">\n",
       "  <thead>\n",
       "    <tr style=\"text-align: right;\">\n",
       "      <th></th>\n",
       "      <th>ranking_1</th>\n",
       "      <th>ranking_2</th>\n",
       "      <th>ranking_3</th>\n",
       "      <th>ranking_4</th>\n",
       "      <th>ranking_5</th>\n",
       "      <th>ranking_6</th>\n",
       "    </tr>\n",
       "  </thead>\n",
       "  <tbody>\n",
       "    <tr>\n",
       "      <th>1</th>\n",
       "      <td>3.0</td>\n",
       "      <td>2.0</td>\n",
       "      <td>1.0</td>\n",
       "      <td>4.0</td>\n",
       "      <td>5.0</td>\n",
       "      <td>6.0</td>\n",
       "    </tr>\n",
       "    <tr>\n",
       "      <th>2</th>\n",
       "      <td>NaN</td>\n",
       "      <td>NaN</td>\n",
       "      <td>NaN</td>\n",
       "      <td>NaN</td>\n",
       "      <td>NaN</td>\n",
       "      <td>NaN</td>\n",
       "    </tr>\n",
       "    <tr>\n",
       "      <th>3</th>\n",
       "      <td>1.0</td>\n",
       "      <td>2.0</td>\n",
       "      <td>3.0</td>\n",
       "      <td>4.0</td>\n",
       "      <td>5.0</td>\n",
       "      <td>6.0</td>\n",
       "    </tr>\n",
       "    <tr>\n",
       "      <th>4</th>\n",
       "      <td>5.0</td>\n",
       "      <td>6.0</td>\n",
       "      <td>1.0</td>\n",
       "      <td>2.0</td>\n",
       "      <td>4.0</td>\n",
       "      <td>3.0</td>\n",
       "    </tr>\n",
       "    <tr>\n",
       "      <th>5</th>\n",
       "      <td>5.0</td>\n",
       "      <td>4.0</td>\n",
       "      <td>6.0</td>\n",
       "      <td>2.0</td>\n",
       "      <td>1.0</td>\n",
       "      <td>3.0</td>\n",
       "    </tr>\n",
       "    <tr>\n",
       "      <th>...</th>\n",
       "      <td>...</td>\n",
       "      <td>...</td>\n",
       "      <td>...</td>\n",
       "      <td>...</td>\n",
       "      <td>...</td>\n",
       "      <td>...</td>\n",
       "    </tr>\n",
       "    <tr>\n",
       "      <th>1182</th>\n",
       "      <td>5.0</td>\n",
       "      <td>4.0</td>\n",
       "      <td>6.0</td>\n",
       "      <td>3.0</td>\n",
       "      <td>2.0</td>\n",
       "      <td>1.0</td>\n",
       "    </tr>\n",
       "    <tr>\n",
       "      <th>1183</th>\n",
       "      <td>4.0</td>\n",
       "      <td>5.0</td>\n",
       "      <td>6.0</td>\n",
       "      <td>2.0</td>\n",
       "      <td>3.0</td>\n",
       "      <td>1.0</td>\n",
       "    </tr>\n",
       "    <tr>\n",
       "      <th>1184</th>\n",
       "      <td>NaN</td>\n",
       "      <td>NaN</td>\n",
       "      <td>NaN</td>\n",
       "      <td>NaN</td>\n",
       "      <td>NaN</td>\n",
       "      <td>NaN</td>\n",
       "    </tr>\n",
       "    <tr>\n",
       "      <th>1185</th>\n",
       "      <td>4.0</td>\n",
       "      <td>3.0</td>\n",
       "      <td>6.0</td>\n",
       "      <td>5.0</td>\n",
       "      <td>2.0</td>\n",
       "      <td>1.0</td>\n",
       "    </tr>\n",
       "    <tr>\n",
       "      <th>1186</th>\n",
       "      <td>6.0</td>\n",
       "      <td>1.0</td>\n",
       "      <td>2.0</td>\n",
       "      <td>3.0</td>\n",
       "      <td>4.0</td>\n",
       "      <td>5.0</td>\n",
       "    </tr>\n",
       "  </tbody>\n",
       "</table>\n",
       "<p>1186 rows × 6 columns</p>\n",
       "</div>"
      ],
      "text/plain": [
       "      ranking_1  ranking_2  ranking_3  ranking_4  ranking_5  ranking_6\n",
       "1           3.0        2.0        1.0        4.0        5.0        6.0\n",
       "2           NaN        NaN        NaN        NaN        NaN        NaN\n",
       "3           1.0        2.0        3.0        4.0        5.0        6.0\n",
       "4           5.0        6.0        1.0        2.0        4.0        3.0\n",
       "5           5.0        4.0        6.0        2.0        1.0        3.0\n",
       "...         ...        ...        ...        ...        ...        ...\n",
       "1182        5.0        4.0        6.0        3.0        2.0        1.0\n",
       "1183        4.0        5.0        6.0        2.0        3.0        1.0\n",
       "1184        NaN        NaN        NaN        NaN        NaN        NaN\n",
       "1185        4.0        3.0        6.0        5.0        2.0        1.0\n",
       "1186        6.0        1.0        2.0        3.0        4.0        5.0\n",
       "\n",
       "[1186 rows x 6 columns]"
      ]
     },
     "execution_count": 9,
     "metadata": {},
     "output_type": "execute_result"
    }
   ],
   "source": [
    "col_to_rename = star_wars.columns[9:15]\n",
    "col_renamed_to = ['ranking_1', 'ranking_2', 'ranking_3', 'ranking_4', 'ranking_5', 'ranking_6']\n",
    "mapping_dict = {col_to_rename[x]:col_renamed_to[x] for x in range(6)}\n",
    "star_wars.rename(mapping_dict, axis=1, inplace=True)\n",
    "star_wars[star_wars.columns[9:15]] = star_wars[star_wars.columns[9:15]].astype(float)\n",
    "star_wars[star_wars.columns[9:15]]"
   ]
  },
  {
   "cell_type": "markdown",
   "metadata": {},
   "source": [
    "## Finding the Highest-Ranked Movie\n",
    "\n",
    "Now that we have cleaned up the data, we can find the higest ranked movie. We will find the mean of each of hte ranking columns and then plot this as a bar chart for a quick and intuitive visual analysis. It is important to note that a low is good and high is bad."
   ]
  },
  {
   "cell_type": "code",
   "execution_count": 10,
   "metadata": {},
   "outputs": [
    {
     "data": {
      "text/plain": [
       "<AxesSubplot:>"
      ]
     },
     "execution_count": 10,
     "metadata": {},
     "output_type": "execute_result"
    },
    {
     "data": {
      "image/png": "[encoded data removed]",
      "text/plain": [
       "<Figure size 432x288 with 1 Axes>"
      ]
     },
     "metadata": {
      "needs_background": "light"
     },
     "output_type": "display_data"
    }
   ],
   "source": [
    "star_wars[star_wars.columns[9:15]].mean().plot(kind='bar')"
   ]
  },
  {
   "cell_type": "markdown",
   "metadata": {},
   "source": [
    "The results of the survey shows that Star Wars Episode 5 had the best rankings as predicted by FiveThirtyEight who ran the survey, and Star Wars Episode 3 was ranked the worst. Another obersvation is that respondents ranks the original trilogy higher than the prequal trilogy.\n",
    "\n",
    "\n",
    "## Finding the Most Viewed Movie\n",
    "\n",
    "Next we will analyse the most viewed Star Wars movies. One thing to keep in mind is that the Star Wars movies were released starting Episode 4 to Episode 6 which is the original trilogy, then Episode 1 to 3 which is the prequal trilogy."
   ]
  },
  {
   "cell_type": "code",
   "execution_count": 11,
   "metadata": {},
   "outputs": [
    {
     "data": {
      "text/plain": [
       "<AxesSubplot:>"
      ]
     },
     "execution_count": 11,
     "metadata": {},
     "output_type": "execute_result"
    },
    {
     "data": {
      "image/png": "[encoded data removed]",
      "text/plain": [
       "<Figure size 432x288 with 1 Axes>"
      ]
     },
     "metadata": {
      "needs_background": "light"
     },
     "output_type": "display_data"
    }
   ],
   "source": [
    "star_wars[star_wars.columns[3:9]].sum().plot(kind='bar')"
   ]
  },
  {
   "cell_type": "markdown",
   "metadata": {},
   "source": [
    "The views peaked at Episode 5 and bottomed out at Episode 3. \n",
    "\n",
    "The views and ranking plots also shows the overall interest respondent throughout the Star Wars franchise. Starting with a modest interest when the series began with Episode 4 then peaking at Episode 5 and Episode 6 kept that momentum going. While there were initially high hopes for Episode 1, it did not meet fan's expectations. This pattern follows for the remainder of the prequal trilogy, resulting in a decline in views and rankings.  \n",
    "\n",
    "## Exploring the Data by Bineary Segments\n",
    "\n",
    "Next we will explore results by segments to see how each segment responded to the Star Wars movies. We will explore the results by Gender, whether the respondent considerst themselves a Star Wars fan and whether the respondent considers themselves a Star Trek fan. It's important to note that if one segments has more participants than the other, this would skew the overall views to that particular segement. Rather than comparing the overall views, we will compare the proportion of respondent who watched a particular movie, this way uneven participants within the segment won't interfere withe the results."
   ]
  },
  {
   "cell_type": "code",
   "execution_count": 12,
   "metadata": {},
   "outputs": [],
   "source": [
    "males = star_wars[star_wars[star_wars.columns[-5]] == \"Male\"]\n",
    "females = star_wars[star_wars[star_wars.columns[-5]] == \"Female\"]\n",
    "true_st_fans = star_wars[star_wars[star_wars.columns[-6]] == 'Yes']\n",
    "not_st_fans = star_wars[star_wars[star_wars.columns[-6]] == 'No']\n",
    "star_wars[star_wars.columns[2]] = star_wars[star_wars.columns[2]].astype(str)\n",
    "true_sw_fans = star_wars[star_wars[star_wars.columns[2]] == 'True']\n",
    "not_sw_fans = star_wars[star_wars[star_wars.columns[2]] == 'False']"
   ]
  },
  {
   "cell_type": "code",
   "execution_count": 13,
   "metadata": {},
   "outputs": [
    {
     "data": {
      "text/plain": [
       "<AxesSubplot:title={'center':'Male vs. Females Proportion Watched'}>"
      ]
     },
     "execution_count": 13,
     "metadata": {},
     "output_type": "execute_result"
    },
    {
     "data": {
      "image/png": "[encoded data removed]",
      "text/plain": [
       "<Figure size 432x288 with 1 Axes>"
      ]
     },
     "metadata": {
      "needs_background": "light"
     },
     "output_type": "display_data"
    },
    {
     "data": {
      "image/png": "[encoded data removed]",
      "text/plain": [
       "<Figure size 432x288 with 1 Axes>"
      ]
     },
     "metadata": {
      "needs_background": "light"
     },
     "output_type": "display_data"
    }
   ],
   "source": [
    "gender_ratings = males[males.columns[9:15]].mean().to_frame(name='Male')\n",
    "gender_ratings['Female'] = females[females.columns[9:15]].mean()\n",
    "gender_views = males[males.columns[3:9]].mean().to_frame(name='Male')\n",
    "gender_views['Female'] = females[females.columns[3:9]].mean()\n",
    "gender_ratings.plot(kind='bar', title=\"Male vs. Females Average Rankings\")\n",
    "gender_views.plot(kind='bar', legend=False, title=\"Male vs. Females Proportion Watched\")"
   ]
  },
  {
   "cell_type": "markdown",
   "metadata": {},
   "source": [
    "Both genders follows the same pattern the average rankings, suggesting both genders agree with the overall rankings of the Star Wars movies. However, male's rankings are much more controversial than the female rankings, especially between the ranking between the original trilogy and the prequal trilogy. This suggests that males holds a much stronger opinion on the overall Star Wars franchise compared to females.\n",
    "\n",
    "Both genders follows the same patterns for proportion viewed as well. Males dominates in the proportion of views for every episode, which is unsurprising as the science fiction genre attracts mainly a male demographic."
   ]
  },
  {
   "cell_type": "code",
   "execution_count": 14,
   "metadata": {},
   "outputs": [
    {
     "data": {
      "text/plain": [
       "<AxesSubplot:title={'center':'Star War Fans vs. Non-Fans Proportion Watched'}>"
      ]
     },
     "execution_count": 14,
     "metadata": {},
     "output_type": "execute_result"
    },
    {
     "data": {
      "image/png": "[encoded data removed]",
      "text/plain": [
       "<Figure size 432x288 with 1 Axes>"
      ]
     },
     "metadata": {
      "needs_background": "light"
     },
     "output_type": "display_data"
    },
    {
     "data": {
      "image/png": "[encoded data removed]",
      "text/plain": [
       "<Figure size 432x288 with 1 Axes>"
      ]
     },
     "metadata": {
      "needs_background": "light"
     },
     "output_type": "display_data"
    }
   ],
   "source": [
    "sw_fans_ratings = true_sw_fans[true_sw_fans.columns[9:15]].mean().to_frame(name='Fans')\n",
    "sw_fans_ratings['Not Fans'] = not_sw_fans[not_sw_fans.columns[9:15]].mean()\n",
    "sw_fans_views = true_sw_fans[true_sw_fans.columns[3:9]].mean().to_frame(name='True Star War Fans')\n",
    "sw_fans_views['Not Fans'] = not_sw_fans[not_sw_fans.columns[3:9]].mean()\n",
    "sw_fans_ratings.plot(kind='bar', title=\"Star War Fans vs. Non-Fans Average Rankings\")\n",
    "sw_fans_views.plot(kind='bar', title=\"Star War Fans vs. Non-Fans Proportion Watched\", legend=False)"
   ]
  },
  {
   "cell_type": "markdown",
   "metadata": {},
   "source": [
    "There is a strong consensus within the Star Wars fans where they have ranked the original trilogy over the prequal trilogy. This cannot be said for the non Star Wars fans, where they have ranked Episode 1 very close to Episode 5. \n",
    "\n",
    "Unsurprisingly, there is a very higher proportion of fans who watched every episode of Star Wars compard to non-fans. Surprisingly, for non-fans, there is a higher proportion who watched the Episode 1 compared to Episode 4. This explains the spike in ratings for Episode 1 as the respondent is more likely to rank a particular episode higher if they have seen that movie."
   ]
  },
  {
   "cell_type": "code",
   "execution_count": 15,
   "metadata": {},
   "outputs": [
    {
     "data": {
      "text/plain": [
       "<AxesSubplot:title={'center':'Star Trek Fans vs. Non-Fans Proportion Watched'}>"
      ]
     },
     "execution_count": 15,
     "metadata": {},
     "output_type": "execute_result"
    },
    {
     "data": {
      "image/png": "[encoded data removed]",
      "text/plain": [
       "<Figure size 432x288 with 1 Axes>"
      ]
     },
     "metadata": {
      "needs_background": "light"
     },
     "output_type": "display_data"
    },
    {
     "data": {
      "image/png": "[encoded data removed]",
      "text/plain": [
       "<Figure size 432x288 with 1 Axes>"
      ]
     },
     "metadata": {
      "needs_background": "light"
     },
     "output_type": "display_data"
    }
   ],
   "source": [
    "st_fans_ratings = true_st_fans[true_st_fans.columns[9:15]].mean().to_frame(name='Fans')\n",
    "st_fans_ratings['Not Fans'] = not_st_fans[not_st_fans.columns[9:15]].mean()\n",
    "st_fans_views = true_st_fans[true_st_fans.columns[3:9]].mean().to_frame(name='True Star Trek Fans')\n",
    "st_fans_views['Not Fans'] = not_st_fans[not_st_fans.columns[3:9]].mean()\n",
    "st_fans_ratings.plot(kind='bar', title=\"Star Trek Fans vs. Non-Fans Average Rankings\")\n",
    "st_fans_views.plot(kind='bar', title=\"Star Trek Fans vs. Non-Fans Proportion Watched\", legend=False)"
   ]
  },
  {
   "cell_type": "markdown",
   "metadata": {},
   "source": [
    "We see that both Star Trek and non Star Trek fans tends follows similar patterns in ranking the Star Wars movies as well as the proportion whom watched those movies. However a higher proportion Star Trek fans watched the each of the Star Wars movies.\n",
    "\n",
    "# Conclusion\n",
    "\n",
    "The data from the survey proves that Star Wars Episode 5: The Empire Strikes Back is the best rated Star Wars film as well as the most watched out of all of the respondents of this survey. These results holds true across different genders and across Star Wars fans and non-fans alike. "
   ]
  }
 ],
 "metadata": {
  "kernelspec": {
   "display_name": "Python 3",
   "language": "python",
   "name": "python3"
  },
  "language_info": {
   "codemirror_mode": {
    "name": "ipython",
    "version": 3
   },
   "file_extension": ".py",
   "mimetype": "text/x-python",
   "name": "python",
   "nbconvert_exporter": "python",
   "pygments_lexer": "ipython3",
   "version": "3.8.5"
  }
 },
 "nbformat": 4,
 "nbformat_minor": 4
}
