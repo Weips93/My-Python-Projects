{
 "cells": [
  {
   "cell_type": "markdown",
   "id": "bbf6fd49",
   "metadata": {},
   "source": [
    "# Helicopter Prison Escapes\n",
    "\n",
    "The aim of this project is to analyse helicopter escapes recorded on [https://en.wikipedia.org/wiki/List_of_helicopter_prison_escapes](https://en.wikipedia.org/wiki/List_of_helicopter_prison_escapes). From the data we aim to answer two key questions:\n",
    "\n",
    "- In which year did the most helicopter prison break attempts occur?\n",
    "- In which countries do the most attempted helicopter prison escapes occur?\n",
    "\n",
    "We begin first by importing some helper functions. "
   ]
  },
  {
   "cell_type": "code",
   "execution_count": 1,
   "id": "0c20f56f",
   "metadata": {},
   "outputs": [],
   "source": [
    "from helper import *"
   ]
  },
  {
   "cell_type": "markdown",
   "id": "747cecc2",
   "metadata": {},
   "source": [
    "## Getting the Data\n",
    "\n",
    "Next we use the data_from_url function to scrape the data from the data table on the Wikipedia page to analyze throughout this project. We will output the first three rows to understand how the data has been read."
   ]
  },
  {
   "cell_type": "code",
   "execution_count": 2,
   "id": "917ad320",
   "metadata": {},
   "outputs": [
    {
     "name": "stdout",
     "output_type": "stream",
     "text": [
      "[['August 19, 1971', 'Santa Martha Acatitla', 'Mexico', 'Yes', 'Joel David Kaplan Carlos Antonio Contreras Castro', \"Joel David Kaplan was a New York businessman who had been arrested for murder in 1962 in Mexico City and was incarcerated at the Santa Martha Acatitla prison in the Iztapalapa borough of Mexico City. Joel's sister, Judy Kaplan, arranged the means to help Kaplan escape, and on August 19, 1971, a helicopter landed in the prison yard. The guards mistakenly thought this was an official visit. In two minutes, Kaplan and his cellmate Carlos Antonio Contreras, a Venezuelan counterfeiter, were able to board the craft and were piloted away, before any shots were fired.[9] Both men were flown to Texas and then different planes flew Kaplan to California and Castro to Guatemala.[3] The Mexican government never initiated extradition proceedings against Kaplan.[9] The escape is told in a book, The 10-Second Jailbreak: The Helicopter Escape of Joel David Kaplan.[4] It also inspired the 1975 action movie Breakout, which starred Charles Bronson and Robert Duvall.[9]\"], ['October 31, 1973', 'Mountjoy Jail', 'Ireland', 'Yes', \"JB O'Hagan Seamus TwomeyKevin Mallon\", 'On October 31, 1973 an IRA member hijacked a helicopter and forced the pilot to land in the exercise yard of Dublin\\'s Mountjoy Jail\\'s D Wing at 3:40\\xa0p.m., October 31, 1973. Three members of the IRA were able to escape: JB O\\'Hagan, Seamus Twomey and Kevin Mallon. Another prisoner who also was in the prison was quoted as saying, \"One shamefaced screw apologised to the governor and said he thought it was the new Minister for Defence (Paddy Donegan) arriving. I told him it was our Minister of Defence leaving.\" The Mountjoy helicopter escape became Republican lore and was immortalized by \"The Helicopter Song\", which contains the lines \"It\\'s up like a bird and over the city. There\\'s three men a\\'missing I heard the warder say\".[1]'], ['May 24, 1978', 'United States Penitentiary, Marion', 'United States', 'No', 'Garrett Brock TrapnellMartin Joseph McNallyJames Kenneth Johnson', \"43-year-old Barbara Ann Oswald hijacked a Saint Louis-based charter helicopter and forced the pilot to land in the yard at USP Marion. While landing the aircraft, the pilot, Allen Barklage, who was a Vietnam War veteran, struggled with Oswald and managed to wrestle the gun away from her. Barklage then shot and killed Oswald, thwarting the escape.[10] A few months later Oswald's daughter hijacked TWA Flight 541 in an effort to free Trapnell.\"]]\n"
     ]
    }
   ],
   "source": [
    "url = 'https://en.wikipedia.org/wiki/List_of_helicopter_prison_escapes#Actual_attempts'\n",
    "data = data_from_url(url)\n",
    "print(data[:3])"
   ]
  },
  {
   "cell_type": "markdown",
   "id": "4cdf2ced",
   "metadata": {},
   "source": [
    "## Removing the Details\n",
    "\n",
    "The data has been read as a list of lists. The first layer represents the each row of the data, without the header row, and each list within each row contains 6 columns:\n",
    "\n",
    "| Column Name |                  Description                 |\n",
    "|:-----------:|:--------------------------------------------:|\n",
    "|     Date    | Date of the escape in \"mmmm dd, yyyy\" format |\n",
    "| Prison Name |              Name of the prison              |\n",
    "|   Country   |             Country of the escape            |\n",
    "|  Succeeded  |   Whether or not the prison break succeeded  |\n",
    "|   Escapees  |            Name(s) of the escapees           |\n",
    "|   Details   |             Details of the escape            |\n",
    "\n",
    "We will remove the Details columns as they are not important to our analysis. We do this by looping through the first layer of the list and then re-assign the list without the last entry of the list."
   ]
  },
  {
   "cell_type": "code",
   "execution_count": 3,
   "id": "a9c80ba8",
   "metadata": {},
   "outputs": [
    {
     "name": "stdout",
     "output_type": "stream",
     "text": [
      "[['August 19, 1971', 'Santa Martha Acatitla', 'Mexico', 'Yes', 'Joel David Kaplan Carlos Antonio Contreras Castro'], ['October 31, 1973', 'Mountjoy Jail', 'Ireland', 'Yes', \"JB O'Hagan Seamus TwomeyKevin Mallon\"], ['May 24, 1978', 'United States Penitentiary, Marion', 'United States', 'No', 'Garrett Brock TrapnellMartin Joseph McNallyJames Kenneth Johnson']]\n"
     ]
    }
   ],
   "source": [
    "index = 0\n",
    "for row in data:\n",
    "    data[index] = row[:-1]\n",
    "    index += 1\n",
    "\n",
    "print(data[:3])"
   ]
  },
  {
   "cell_type": "markdown",
   "id": "62db6ffd",
   "metadata": {},
   "source": [
    "## Extracting the Year\n",
    "\n",
    "Next, we can start by answering the first question in the scope of the project by extracting the year and then replace the date with the year. We do this using another helper function \"fetch_year\" on the first item of the list which is the date."
   ]
  },
  {
   "cell_type": "code",
   "execution_count": 4,
   "id": "8449e931",
   "metadata": {},
   "outputs": [
    {
     "name": "stdout",
     "output_type": "stream",
     "text": [
      "[[1971, 'Santa Martha Acatitla', 'Mexico', 'Yes', 'Joel David Kaplan Carlos Antonio Contreras Castro'], [1973, 'Mountjoy Jail', 'Ireland', 'Yes', \"JB O'Hagan Seamus TwomeyKevin Mallon\"], [1978, 'United States Penitentiary, Marion', 'United States', 'No', 'Garrett Brock TrapnellMartin Joseph McNallyJames Kenneth Johnson']]\n"
     ]
    }
   ],
   "source": [
    "for row in data:\n",
    "    row[0] = fetch_year(row[0])\n",
    "\n",
    "print(data[:3])"
   ]
  },
  {
   "cell_type": "markdown",
   "id": "429a3772",
   "metadata": {},
   "source": [
    "## Attempts per Year\n",
    "\n",
    "Before we move on it's a good practice to understand the range of the data, which is by identifying the year of the first and last escape in our dataset. We do this by using the Python \"min\" and \"max\" built-in functions, setting the years of the attempts as the keys for these functions to perform on. "
   ]
  },
  {
   "cell_type": "code",
   "execution_count": 5,
   "id": "cc8a196c",
   "metadata": {},
   "outputs": [
    {
     "name": "stdout",
     "output_type": "stream",
     "text": [
      "The earliest year in the dataset is 1971\n",
      "The latest year in the dataset is 2020\n"
     ]
    }
   ],
   "source": [
    "min_year = min(data, key=lambda x: x[0])[0]\n",
    "max_year = max(data, key=lambda x: x[0])[0]\n",
    "print('The earliest year in the dataset is ' + str(min_year))\n",
    "print('The latest year in the dataset is ' + str(max_year))"
   ]
  },
  {
   "cell_type": "markdown",
   "id": "2f87daea",
   "metadata": {},
   "source": [
    "At the time of writing, the earliest year in the dataset is 1971 and the lastest year is 2020. Wikipedia notes that this list in incomplete so the earliest and latest years may change when re-running this analysis in the fugure. \n",
    "\n",
    "Next we isolate the years of the escapes for us to perform the next step of the analysis."
   ]
  },
  {
   "cell_type": "code",
   "execution_count": 6,
   "id": "38c14a9b",
   "metadata": {},
   "outputs": [
    {
     "name": "stdout",
     "output_type": "stream",
     "text": [
      "[1971, 1973, 1978, 1981, 1981, 1983, 1985, 1985, 1986, 1986, 1986, 1987, 1988, 1989, 1989, 1990, 1991, 1992, 1992, 1993, 1996, 1997, 1999, 2000, 2000, 2001, 2001, 2001, 2002, 2002, 2003, 2005, 2005, 2006, 2007, 2007, 2007, 2009, 2009, 2009, 2010, 2012, 2013, 2013, 2014, 2016, 2018, 2020]\n"
     ]
    }
   ],
   "source": [
    "years = []\n",
    "\n",
    "for row in data:\n",
    "    years.append(row[0])\n",
    "\n",
    "print(years)"
   ]
  },
  {
   "cell_type": "markdown",
   "id": "4ec65e85",
   "metadata": {},
   "source": [
    "Each year in the \"years\" list represent an attempt, so our next step is to count number of times each year appears in the list. In order to better utilise matplotlib to visualise the distribution, we will store the attempts per year as a nested list, in the form [year, count], called \"attempts_per_year\". \n",
    "\n",
    "To do this we must initialize a list of lists with each of the years as the first item then 0 as the second item. Then we set up a double for loop to first loop through the years and then update the \"attempts_per_year\" adding one year to the appropriate year."
   ]
  },
  {
   "cell_type": "code",
   "execution_count": 7,
   "id": "4741bf9f",
   "metadata": {},
   "outputs": [
    {
     "name": "stdout",
     "output_type": "stream",
     "text": [
      "[[1971, 1], [1972, 0], [1973, 1], [1974, 0], [1975, 0], [1976, 0], [1977, 0], [1978, 1], [1979, 0], [1980, 0], [1981, 2], [1982, 0], [1983, 1], [1984, 0], [1985, 2], [1986, 3], [1987, 1], [1988, 1], [1989, 2], [1990, 1], [1991, 1], [1992, 2], [1993, 1], [1994, 0], [1995, 0], [1996, 1], [1997, 1], [1998, 0], [1999, 1], [2000, 2], [2001, 3], [2002, 2], [2003, 1], [2004, 0], [2005, 2], [2006, 1], [2007, 3], [2008, 0], [2009, 3], [2010, 1], [2011, 0], [2012, 1], [2013, 2], [2014, 1], [2015, 0], [2016, 1], [2017, 0], [2018, 1], [2019, 0], [2020, 1]]\n"
     ]
    }
   ],
   "source": [
    "attempts_per_year = [[x, 0] for x in range(min_year, max_year+1)]\n",
    "\n",
    "for year in years:\n",
    "    for ya in attempts_per_year:\n",
    "        if ya[0] == year:\n",
    "            ya[1] += 1\n",
    "\n",
    "print(attempts_per_year)"
   ]
  },
  {
   "cell_type": "code",
   "execution_count": 8,
   "id": "bbd584d4",
   "metadata": {},
   "outputs": [
    {
     "data": {
      "image/png": "[encoded data removed]",
      "text/plain": [
       "<Figure size 648x1080 with 1 Axes>"
      ]
     },
     "metadata": {
      "needs_background": "light"
     },
     "output_type": "display_data"
    }
   ],
   "source": [
    "%matplotlib inline\n",
    "barplot(attempts_per_year)"
   ]
  },
  {
   "cell_type": "markdown",
   "id": "fe6c5fad",
   "metadata": {},
   "source": [
    "We see that the years that had the helicopter escapes occur is attempts occur is in 1986, 2001, 2007 and 2009 with 3 attempts each. \n",
    "\n",
    "## Attempts per Country\n",
    "\n",
    "To answer the second question we are able to utilise the data which was read into the Pandas dataframe allowing us to utilies the value_count() method to create a frequency table. "
   ]
  },
  {
   "cell_type": "code",
   "execution_count": 9,
   "id": "d1889757",
   "metadata": {},
   "outputs": [
    {
     "data": {
      "text/html": [
       "<table border=\"1\" class=\"dataframe\">\n",
       "  <thead>\n",
       "    <tr style=\"text-align: right;\">\n",
       "      <th>Country</th>\n",
       "      <th>Number of Occurrences</th>\n",
       "    </tr>\n",
       "  </thead>\n",
       "  <tbody>\n",
       "    <tr>\n",
       "      <td>France</td>\n",
       "      <td>15</td>\n",
       "    </tr>\n",
       "    <tr>\n",
       "      <td>United States</td>\n",
       "      <td>8</td>\n",
       "    </tr>\n",
       "    <tr>\n",
       "      <td>Canada</td>\n",
       "      <td>4</td>\n",
       "    </tr>\n",
       "    <tr>\n",
       "      <td>Greece</td>\n",
       "      <td>4</td>\n",
       "    </tr>\n",
       "    <tr>\n",
       "      <td>Belgium</td>\n",
       "      <td>4</td>\n",
       "    </tr>\n",
       "    <tr>\n",
       "      <td>Australia</td>\n",
       "      <td>2</td>\n",
       "    </tr>\n",
       "    <tr>\n",
       "      <td>Brazil</td>\n",
       "      <td>2</td>\n",
       "    </tr>\n",
       "    <tr>\n",
       "      <td>United Kingdom</td>\n",
       "      <td>2</td>\n",
       "    </tr>\n",
       "    <tr>\n",
       "      <td>Mexico</td>\n",
       "      <td>1</td>\n",
       "    </tr>\n",
       "    <tr>\n",
       "      <td>Ireland</td>\n",
       "      <td>1</td>\n",
       "    </tr>\n",
       "    <tr>\n",
       "      <td>Italy</td>\n",
       "      <td>1</td>\n",
       "    </tr>\n",
       "    <tr>\n",
       "      <td>Puerto Rico</td>\n",
       "      <td>1</td>\n",
       "    </tr>\n",
       "    <tr>\n",
       "      <td>Chile</td>\n",
       "      <td>1</td>\n",
       "    </tr>\n",
       "    <tr>\n",
       "      <td>Netherlands</td>\n",
       "      <td>1</td>\n",
       "    </tr>\n",
       "    <tr>\n",
       "      <td>Russia</td>\n",
       "      <td>1</td>\n",
       "    </tr>\n",
       "  </tbody>\n",
       "</table>"
      ],
      "text/plain": [
       "<IPython.core.display.HTML object>"
      ]
     },
     "metadata": {},
     "output_type": "display_data"
    }
   ],
   "source": [
    "countries_frequency = df[\"Country\"].value_counts()\n",
    "print_pretty_table(countries_frequency)"
   ]
  },
  {
   "cell_type": "markdown",
   "id": "d6cfb50d",
   "metadata": {},
   "source": [
    "We see that the country that had the most helicopter escaptes attempts occur is France.\n",
    "\n",
    "## Further Analysis\n",
    "\n",
    "Further analysis we can perform on the dataset includes finding the countries and years which had the most number of successful attempts. To do this we need to create a list which only contains rows which has successful escapes. We know that in the original \"data\" variable, the fourth column contains whether the attempt was successful, this allows us to filter the data based on the content of that column. We print the first three rows to verify the code was successful."
   ]
  },
  {
   "cell_type": "code",
   "execution_count": 10,
   "id": "e265bbec",
   "metadata": {},
   "outputs": [
    {
     "name": "stdout",
     "output_type": "stream",
     "text": [
      "[[1971, 'Santa Martha Acatitla', 'Mexico', 'Yes', 'Joel David Kaplan Carlos Antonio Contreras Castro'], [1973, 'Mountjoy Jail', 'Ireland', 'Yes', \"JB O'Hagan Seamus TwomeyKevin Mallon\"], [1981, 'Fleury-Mérogis, Essonne, Ile de France', 'France', 'Yes', 'Gérard DupréDaniel Beaumont']]\n"
     ]
    }
   ],
   "source": [
    "successes = [x for x in data if x[3] == 'Yes']\n",
    "print(successes[:3])"
   ]
  },
  {
   "cell_type": "markdown",
   "id": "6e8e4018",
   "metadata": {},
   "source": [
    "Next we answer the first question by reusing the same code modifying the attempts to escapes."
   ]
  },
  {
   "cell_type": "code",
   "execution_count": 11,
   "id": "31b994ca",
   "metadata": {},
   "outputs": [
    {
     "data": {
      "image/png": "[encoded data removed]",
      "text/plain": [
       "<Figure size 648x1080 with 1 Axes>"
      ]
     },
     "metadata": {
      "needs_background": "light"
     },
     "output_type": "display_data"
    }
   ],
   "source": [
    "escapes_per_year = [[x, 0] for x in range(min_year, max_year+1)]\n",
    "escapes = [x[0] for x in successes]\n",
    "\n",
    "for y in escapes:\n",
    "    for ya in escapes_per_year:\n",
    "        if ya[0] == y:\n",
    "            ya[1] += 1\n",
    "\n",
    "%matplotlib inline\n",
    "barplot(escapes_per_year)"
   ]
  },
  {
   "cell_type": "markdown",
   "id": "ee7c05ee",
   "metadata": {},
   "source": [
    "We see that in 1986 and 2009 we have the most number of escapes of 3\n",
    "\n",
    "Next we find out which country has the most number of escapes."
   ]
  },
  {
   "cell_type": "code",
   "execution_count": 12,
   "id": "20f1cb26",
   "metadata": {},
   "outputs": [
    {
     "data": {
      "text/html": [
       "<div>\n",
       "<style scoped>\n",
       "    .dataframe tbody tr th:only-of-type {\n",
       "        vertical-align: middle;\n",
       "    }\n",
       "\n",
       "    .dataframe tbody tr th {\n",
       "        vertical-align: top;\n",
       "    }\n",
       "\n",
       "    .dataframe thead th {\n",
       "        text-align: right;\n",
       "    }\n",
       "</style>\n",
       "<table border=\"1\" class=\"dataframe\">\n",
       "  <thead>\n",
       "    <tr style=\"text-align: right;\">\n",
       "      <th></th>\n",
       "      <th>Escapes</th>\n",
       "    </tr>\n",
       "  </thead>\n",
       "  <tbody>\n",
       "    <tr>\n",
       "      <th>France</th>\n",
       "      <td>11</td>\n",
       "    </tr>\n",
       "    <tr>\n",
       "      <th>United States</th>\n",
       "      <td>6</td>\n",
       "    </tr>\n",
       "    <tr>\n",
       "      <th>Canada</th>\n",
       "      <td>3</td>\n",
       "    </tr>\n",
       "    <tr>\n",
       "      <th>Brazil</th>\n",
       "      <td>2</td>\n",
       "    </tr>\n",
       "    <tr>\n",
       "      <th>Greece</th>\n",
       "      <td>2</td>\n",
       "    </tr>\n",
       "    <tr>\n",
       "      <th>Belgium</th>\n",
       "      <td>2</td>\n",
       "    </tr>\n",
       "    <tr>\n",
       "      <th>Mexico</th>\n",
       "      <td>1</td>\n",
       "    </tr>\n",
       "    <tr>\n",
       "      <th>Ireland</th>\n",
       "      <td>1</td>\n",
       "    </tr>\n",
       "    <tr>\n",
       "      <th>Italy</th>\n",
       "      <td>1</td>\n",
       "    </tr>\n",
       "    <tr>\n",
       "      <th>United Kingdom</th>\n",
       "      <td>1</td>\n",
       "    </tr>\n",
       "    <tr>\n",
       "      <th>Puerto Rico</th>\n",
       "      <td>1</td>\n",
       "    </tr>\n",
       "    <tr>\n",
       "      <th>Chile</th>\n",
       "      <td>1</td>\n",
       "    </tr>\n",
       "    <tr>\n",
       "      <th>Australia</th>\n",
       "      <td>1</td>\n",
       "    </tr>\n",
       "    <tr>\n",
       "      <th>Russia</th>\n",
       "      <td>1</td>\n",
       "    </tr>\n",
       "  </tbody>\n",
       "</table>\n",
       "</div>"
      ],
      "text/plain": [
       "                Escapes\n",
       "France               11\n",
       "United States         6\n",
       "Canada                3\n",
       "Brazil                2\n",
       "Greece                2\n",
       "Belgium               2\n",
       "Mexico                1\n",
       "Ireland               1\n",
       "Italy                 1\n",
       "United Kingdom        1\n",
       "Puerto Rico           1\n",
       "Chile                 1\n",
       "Australia             1\n",
       "Russia                1"
      ]
     },
     "execution_count": 12,
     "metadata": {},
     "output_type": "execute_result"
    }
   ],
   "source": [
    "df[df['Succeeded'] == 'Yes']['Country'].value_counts().to_frame('Escapes')"
   ]
  },
  {
   "cell_type": "markdown",
   "id": "f76bdca1",
   "metadata": {},
   "source": [
    "We see that France has the most number of escapes at 11.\n",
    "\n",
    "## Insights\n",
    "\n",
    "We see the answers to the initial questions for attempts and escapes both yield similar answers. We ask the question why is that the case? \n",
    "\n",
    "A clue to that answer would be to see the success rate of an attempt given an attempt:"
   ]
  },
  {
   "cell_type": "code",
   "execution_count": 13,
   "id": "aa6d5b18",
   "metadata": {},
   "outputs": [
    {
     "name": "stdout",
     "output_type": "stream",
     "text": [
      "The number of escapes attempts are 48\n",
      "The number of successful escapes are 34\n",
      "The success rate of an escape attempt is 70.83%\n"
     ]
    }
   ],
   "source": [
    "print('The number of escapes attempts are ' + str(len(data)))\n",
    "print('The number of successful escapes are ' + str(len(successes)))\n",
    "print('The success rate of an escape attempt is {sr:,.2f}%'.format(sr = 100 * len(successes) / len(data)))"
   ]
  },
  {
   "cell_type": "markdown",
   "id": "04abae93",
   "metadata": {},
   "source": [
    "We notice that the success rate of an escape attempt is 70.83% which means that the number of escapes form a large subset of the overall dataset, making the subset of data very representative of the overall dataset. \n",
    "\n",
    "Now we can ask another question, which is why is the success rate of a given prison escape attempt so high? As the common understanding of prison is that it is a very secure facility making it a very difficult place to escape. A few are important to point out when answering this question:\n",
    "\n",
    "- The prisoner escaped by helicopter meaning that the escape attempt had significant assistance from the outside\n",
    "- The number of escapes is very small with only 48 attempts over 49 years which is less than 1 attempt per year\n",
    "\n",
    "We can conclude that while a prison is a very secure location is because of the security measures within the prison which prevents many escape attempts in the first place. What we see is only a small subset of the actual attempts of prison escapes as the escapes which were caught by the security measures aren't recorded, so the data here isn't very representative of all prison escapes that takes place. The data is more representative of the prison attempts which made it pass the internal security measures in order to be publically recorded. \n",
    "\n",
    "This highlights that a prison escape can be thought of as a means to bypass both the internal security measures within the prison culminating in breaching the prison walls which servers as the external physical security measure. Given the prisoner had access to a helicopter meant the prisoners had a lot of assistance bypassing the physical security measure, which explains why prison escapes attempts by helicopters success rate is so high."
   ]
  }
 ],
 "metadata": {
  "kernelspec": {
   "display_name": "Python 3 (ipykernel)",
   "language": "python",
   "name": "python3"
  },
  "language_info": {
   "codemirror_mode": {
    "name": "ipython",
    "version": 3
   },
   "file_extension": ".py",
   "mimetype": "text/x-python",
   "name": "python",
   "nbconvert_exporter": "python",
   "pygments_lexer": "ipython3",
   "version": "3.9.12"
  }
 },
 "nbformat": 4,
 "nbformat_minor": 5
}
